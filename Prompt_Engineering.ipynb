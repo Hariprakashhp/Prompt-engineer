{
  "nbformat": 4,
  "nbformat_minor": 0,
  "metadata": {
    "colab": {
      "private_outputs": true,
      "provenance": [],
      "authorship_tag": "ABX9TyOVOTDEhv+paGcbHKts/83x",
      "include_colab_link": true
    },
    "kernelspec": {
      "name": "python3",
      "display_name": "Python 3"
    },
    "language_info": {
      "name": "python"
    }
  },
  "cells": [
    {
      "cell_type": "markdown",
      "metadata": {
        "id": "view-in-github",
        "colab_type": "text"
      },
      "source": [
        "<a href=\"https://colab.research.google.com/github/Hariprakashhp/Prompt-engineer/blob/main/Prompt_Engineering.ipynb\" target=\"_parent\"><img src=\"https://colab.research.google.com/assets/colab-badge.svg\" alt=\"Open In Colab\"/></a>"
      ]
    },
    {
      "cell_type": "code",
      "execution_count": null,
      "metadata": {
        "id": "nJFu1AbW9VeS"
      },
      "outputs": [],
      "source": [
        "!pip install transformers datasets rouge-score\n"
      ]
    },
    {
      "cell_type": "code",
      "source": [
        "from transformers import pipeline\n",
        "from datasets import load_metric\n",
        "import numpy as np\n"
      ],
      "metadata": {
        "id": "iRPOMuPlU-Wq"
      },
      "execution_count": null,
      "outputs": []
    },
    {
      "cell_type": "code",
      "source": [
        "summarizer = pipeline(\"summarization\", model=\"facebook/bart-large-cnn\")\n",
        "rouge = load_metric(\"rouge\")"
      ],
      "metadata": {
        "id": "WfRkV-b5VNRr"
      },
      "execution_count": null,
      "outputs": []
    },
    {
      "cell_type": "code",
      "source": [
        "def generate_summaries(text, prompts):\n",
        "    summaries = []\n",
        "    for prompt in prompts:\n",
        "        # Combine prompt with the input text\n",
        "        full_prompt = f\"{prompt} {text}\"\n",
        "        summary = summarizer(full_prompt, max_length=100, min_length=30, do_sample=False)[0]['summary_text']\n",
        "        summaries.append(summary)\n",
        "    return summaries"
      ],
      "metadata": {
        "id": "HG62l8zWVUTs"
      },
      "execution_count": null,
      "outputs": []
    },
    {
      "cell_type": "code",
      "source": [
        "def evaluate_summaries(references, summaries):\n",
        "    # Evaluate the summaries using ROUGE\n",
        "    results = rouge.compute(predictions=summaries, references=references)\n",
        "    # Extracting ROUGE-1 F1 Score as an example\n",
        "    rouge_1_f1 = results['rouge1'].mid.fmeasure\n",
        "    return rouge_1_f1"
      ],
      "metadata": {
        "id": "S0mRtscIVdD2"
      },
      "execution_count": null,
      "outputs": []
    },
    {
      "cell_type": "code",
      "source": [
        "sample_text = \"\"\"The rapid advancement of artificial intelligence (AI) technology has created a significant impact across various industries.\n",
        "It has led to the automation of complex tasks, enhancing efficiency and reducing human error. However, ethical concerns regarding privacy,\n",
        "bias, and employment are growing, calling for responsible AI development.\"\"\"\n"
      ],
      "metadata": {
        "id": "urlmaXbdVknY"
      },
      "execution_count": null,
      "outputs": []
    },
    {
      "cell_type": "code",
      "source": [
        "prompts = [\n",
        "    \"Summarize the following text:\",\n",
        "    \"Provide a concise summary of the following article, highlighting the main points:\",\n",
        "    \"As a news editor, summarize the key events of the article in three sentences:\",\n",
        "    \"Generate a summary of the text that focuses on economic impacts and major statistics:\"\n",
        "]"
      ],
      "metadata": {
        "id": "nW6kN1zZVlnO"
      },
      "execution_count": null,
      "outputs": []
    },
    {
      "cell_type": "code",
      "source": [
        "reference_summaries = [\n",
        "    \"Artificial intelligence is revolutionizing industries by automating tasks and improving efficiency. However, there are ethical concerns regarding privacy, bias, and job displacement, necessitating responsible AI development.\"\n",
        "]"
      ],
      "metadata": {
        "id": "yCztQS-_Vpy6"
      },
      "execution_count": null,
      "outputs": []
    },
    {
      "cell_type": "code",
      "source": [
        "summaries = generate_summaries(sample_text, prompts)"
      ],
      "metadata": {
        "id": "5bXlmWYOVuh_"
      },
      "execution_count": null,
      "outputs": []
    },
    {
      "cell_type": "code",
      "source": [
        "evaluation_scores = evaluate_summaries(reference_summaries * len(prompts), summaries)"
      ],
      "metadata": {
        "id": "vmbYqYYnVyEQ"
      },
      "execution_count": null,
      "outputs": []
    },
    {
      "cell_type": "code",
      "source": [
        "for i, (prompt, summary) in enumerate(zip(prompts, summaries)):\n",
        "    print(f\"Prompt {i+1}: {prompt}\")\n",
        "    print(f\"Summary: {summary}\")\n",
        "    print(f\"Evaluation Score (ROUGE-1 F1): {evaluation_scores:.4f}\\n\")\n"
      ],
      "metadata": {
        "id": "1BscFpQcV1lF"
      },
      "execution_count": null,
      "outputs": []
    },
    {
      "cell_type": "code",
      "source": [
        "best_prompt_index = np.argmax([evaluation_scores])\n",
        "print(f\"Best Performing Prompt: {prompts[best_prompt_index]}\")"
      ],
      "metadata": {
        "id": "WgFrT4xwV5Sh"
      },
      "execution_count": null,
      "outputs": []
    }
  ]
}